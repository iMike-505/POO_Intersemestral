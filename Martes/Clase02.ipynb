{
  "nbformat": 4,
  "nbformat_minor": 0,
  "metadata": {
    "colab": {
      "provenance": []
    },
    "kernelspec": {
      "name": "python3",
      "display_name": "Python 3"
    },
    "language_info": {
      "name": "python"
    }
  },
  "cells": [
    {
      "cell_type": "code",
      "execution_count": null,
      "metadata": {
        "id": "SR8hLKOi8_ld"
      },
      "outputs": [],
      "source": [
        "alumno = {'numero_cuenta' : 1232322 , 'carrera' : 'ICO' ,\n",
        "          'direccion' : {'calle' : 'rancho seco', 'numero' : 23},\n",
        "          'telefonos' : ['5531313131', '5510120037']\n",
        "          }"
      ]
    },
    {
      "cell_type": "code",
      "source": [
        "alumno"
      ],
      "metadata": {
        "colab": {
          "base_uri": "https://localhost:8080/"
        },
        "id": "jrjcL5R0-PRz",
        "outputId": "b1e3f4f8-0b8e-4a14-a127-12649523968c"
      },
      "execution_count": null,
      "outputs": [
        {
          "output_type": "execute_result",
          "data": {
            "text/plain": [
              "{'numero_cuenta': 1232322,\n",
              " 'carrera': 'ICO',\n",
              " 'direccion': {'calle': 'rancho seco', 'numero': 23},\n",
              " 'telefonos': ['5531313131', '5510120037']}"
            ]
          },
          "metadata": {},
          "execution_count": 9
        }
      ]
    },
    {
      "cell_type": "code",
      "source": [
        "print(alumno['direccion']['calle'][3:6:1])\n",
        "print(alumno['telefonos'])"
      ],
      "metadata": {
        "colab": {
          "base_uri": "https://localhost:8080/"
        },
        "id": "bN70r-0Y9BSR",
        "outputId": "04a69969-0ad7-4e90-db5f-a1c25fd57d9c"
      },
      "execution_count": null,
      "outputs": [
        {
          "output_type": "stream",
          "name": "stdout",
          "text": [
            "cho\n",
            "['5531313131', '5510120037']\n"
          ]
        }
      ]
    },
    {
      "cell_type": "code",
      "source": [
        "alumno['facultad'] = \"FES Aragón\"\n",
        "alumno"
      ],
      "metadata": {
        "colab": {
          "base_uri": "https://localhost:8080/"
        },
        "id": "AfRTqPoU-JcB",
        "outputId": "255b63b3-6ef0-44a1-987a-0594cc403cb8"
      },
      "execution_count": null,
      "outputs": [
        {
          "output_type": "execute_result",
          "data": {
            "text/plain": [
              "{'numero_cuenta': 1232322,\n",
              " 'carrera': 'ICO',\n",
              " 'direccion': {'calle': 'rancho seco', 'numero': 23},\n",
              " 'telefonos': ['5531313131', '5510120037'],\n",
              " 'facultad': 'FES Aragón'}"
            ]
          },
          "metadata": {},
          "execution_count": 12
        }
      ]
    },
    {
      "cell_type": "code",
      "source": [
        "#if\n",
        "edad = 20\n",
        "if edad >= 18:\n",
        "    print(\"Eres mayor de edad.\")\n",
        "else:\n",
        "  print(\"Acceso denegado\")"
      ],
      "metadata": {
        "colab": {
          "base_uri": "https://localhost:8080/"
        },
        "id": "RqCNlKXZ_ABo",
        "outputId": "ff110d61-0df1-4091-f42b-c5a4cd08ab80"
      },
      "execution_count": null,
      "outputs": [
        {
          "output_type": "stream",
          "name": "stdout",
          "text": [
            "Eres mayor de edad.\n"
          ]
        }
      ]
    },
    {
      "cell_type": "code",
      "source": [
        "# if- elif - else\n",
        "edad = 15\n",
        "if edad < 13:\n",
        "    print(\"Eres un niño.\")\n",
        "elif edad < 18:\n",
        "    print(\"Eres un adolescente.\")\n",
        "else:\n",
        "    print(\"Eres un adulto.\")"
      ],
      "metadata": {
        "colab": {
          "base_uri": "https://localhost:8080/"
        },
        "id": "0piY2glUAFYw",
        "outputId": "b9fdbf38-e00b-4101-b13f-3d6d03bbd345"
      },
      "execution_count": null,
      "outputs": [
        {
          "output_type": "stream",
          "name": "stdout",
          "text": [
            "Eres un adolescente.\n"
          ]
        }
      ]
    },
    {
      "cell_type": "code",
      "source": [
        "# For   for(int = 1 ; i<10 ; i++)\n",
        "\n",
        "lim = 10\n",
        "for i in range(1, lim, 2):\n",
        "    print(i)"
      ],
      "metadata": {
        "colab": {
          "base_uri": "https://localhost:8080/"
        },
        "id": "KWNEoY3mBwe-",
        "outputId": "8950e2ab-3008-495a-b4e7-490409eb73f1"
      },
      "execution_count": null,
      "outputs": [
        {
          "output_type": "stream",
          "name": "stdout",
          "text": [
            "1\n",
            "3\n",
            "5\n",
            "7\n",
            "9\n"
          ]
        }
      ]
    },
    {
      "cell_type": "code",
      "source": [
        "frutas = ['piña', 'pera', 'manzana', 'fresa', 'aguacate']\n",
        "for numero in frutas:\n",
        "    print(numero)\n",
        "\n",
        "print(\"------------------------\")\n",
        "# Break & continue\n",
        "\n",
        "for numero in frutas:\n",
        "    if numero == \"manzana\":\n",
        "        break   # ó continue\n",
        "    print(numero)  # imprime la fruta"
      ],
      "metadata": {
        "colab": {
          "base_uri": "https://localhost:8080/"
        },
        "id": "ypfuhwN-CcDc",
        "outputId": "ceeb75d7-a6ef-4d82-dea2-7e701144f60c"
      },
      "execution_count": null,
      "outputs": [
        {
          "output_type": "stream",
          "name": "stdout",
          "text": [
            "piña\n",
            "pera\n",
            "manzana\n",
            "fresa\n",
            "aguacate\n",
            "------------------------\n",
            "piña\n",
            "pera\n"
          ]
        }
      ]
    },
    {
      "cell_type": "code",
      "source": [
        "tam = 0\n",
        "while tam < 10:\n",
        "  print(tam)\n",
        "  tam = int(input(\"Dame un número entero: \"))\n",
        "print(\"Final\")"
      ],
      "metadata": {
        "colab": {
          "base_uri": "https://localhost:8080/"
        },
        "id": "4Hoidey2Dgs3",
        "outputId": "495f89ee-a8f7-402c-fdf8-4f8c34a840a6"
      },
      "execution_count": null,
      "outputs": [
        {
          "output_type": "stream",
          "name": "stdout",
          "text": [
            "0\n",
            "Dame un número entero: 6\n",
            "6\n",
            "Dame un número entero: 4\n",
            "4\n",
            "Dame un número entero: 2\n",
            "2\n",
            "Dame un número entero: 12\n",
            "Final\n"
          ]
        }
      ]
    }
  ]
}